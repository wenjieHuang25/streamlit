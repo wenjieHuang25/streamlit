{
 "cells": [
  {
   "cell_type": "code",
   "execution_count": 4,
   "metadata": {
    "collapsed": true,
    "ExecuteTime": {
     "start_time": "2024-05-31T11:01:48.693100Z",
     "end_time": "2024-05-31T11:01:52.660349Z"
    }
   },
   "outputs": [],
   "source": [
    "import streamlit as st\n",
    "import pandas as pd\n",
    "import joblib"
   ]
  },
  {
   "cell_type": "code",
   "execution_count": 5,
   "outputs": [
    {
     "name": "stderr",
     "output_type": "stream",
     "text": [
      "2024-05-31 11:01:56.497 \n",
      "  \u001B[33m\u001B[1mWarning:\u001B[0m to view this Streamlit app on a browser, run it with the following\n",
      "  command:\n",
      "\n",
      "    streamlit run C:\\Users\\USER\\anaconda3\\lib\\site-packages\\ipykernel_launcher.py [ARGUMENTS]\n",
      "2024-05-31 11:01:56.498 Session state does not function when running a script without `streamlit run`\n"
     ]
    }
   ],
   "source": [
    "# Title\n",
    "st.header(\"Streamlit Machine Learning App\")\n",
    "\n",
    "# Input bar 1\n",
    "height = st.number_input(\"Enter Height\")\n",
    "\n",
    "# Input bar 2\n",
    "weight = st.number_input(\"Enter Weight\")\n",
    "\n",
    "# Dropdown input\n",
    "eyes = st.selectbox(\"Select Eye Colour\", (\"Blue\", \"Brown\"))\n",
    "\n",
    "# If button is pressed\n",
    "if st.button(\"Submit\"):\n",
    "\n",
    "    # Unpickle classifier\n",
    "    clf = joblib.load(\"clf.pkl\")\n",
    "\n",
    "    # Store inputs into dataframe\n",
    "    X = pd.DataFrame([[height, weight, eyes]],\n",
    "                     columns = [\"Height\", \"Weight\", \"Eyes\"])\n",
    "    X = X.replace([\"Brown\", \"Blue\"], [1, 0])\n",
    "\n",
    "    # Get prediction\n",
    "    prediction = clf.predict(X)[0]\n",
    "\n",
    "    # Output prediction\n",
    "    st.text(f\"This instance is a {prediction}\")"
   ],
   "metadata": {
    "collapsed": false,
    "ExecuteTime": {
     "start_time": "2024-05-31T11:01:56.176027Z",
     "end_time": "2024-05-31T11:01:56.515505Z"
    }
   }
  },
  {
   "cell_type": "code",
   "execution_count": null,
   "outputs": [],
   "source": [],
   "metadata": {
    "collapsed": false
   }
  }
 ],
 "metadata": {
  "kernelspec": {
   "display_name": "Python 3",
   "language": "python",
   "name": "python3"
  },
  "language_info": {
   "codemirror_mode": {
    "name": "ipython",
    "version": 2
   },
   "file_extension": ".py",
   "mimetype": "text/x-python",
   "name": "python",
   "nbconvert_exporter": "python",
   "pygments_lexer": "ipython2",
   "version": "2.7.6"
  }
 },
 "nbformat": 4,
 "nbformat_minor": 0
}
